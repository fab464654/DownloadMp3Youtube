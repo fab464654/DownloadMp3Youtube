{
  "nbformat": 4,
  "nbformat_minor": 0,
  "metadata": {
    "colab": {
      "name": "downloadSongsYoutube.ipynb",
      "provenance": [],
      "collapsed_sections": []
    },
    "kernelspec": {
      "name": "python3",
      "display_name": "Python 3"
    },
    "language_info": {
      "name": "python"
    }
  },
  "cells": [
    {
      "cell_type": "code",
      "source": [
        "#Install requirements\n",
        "pip install youtube-dl"
      ],
      "metadata": {
        "colab": {
          "base_uri": "https://localhost:8080/"
        },
        "id": "LTLvQZN4zysK",
        "outputId": "52c94163-ad27-4dd9-b506-05155585da85"
      },
      "execution_count": null,
      "outputs": [
        {
          "output_type": "stream",
          "name": "stdout",
          "text": [
            "Looking in indexes: https://pypi.org/simple, https://us-python.pkg.dev/colab-wheels/public/simple/\n",
            "Collecting youtube-dl\n",
            "  Downloading youtube_dl-2021.12.17-py2.py3-none-any.whl (1.9 MB)\n",
            "\u001b[K     |████████████████████████████████| 1.9 MB 7.2 MB/s \n",
            "\u001b[?25hInstalling collected packages: youtube-dl\n",
            "Successfully installed youtube-dl-2021.12.17\n"
          ]
        }
      ]
    },
    {
      "cell_type": "code",
      "execution_count": null,
      "metadata": {
        "id": "1dseSaAdzrQi"
      },
      "outputs": [],
      "source": [
        "from __future__ import unicode_literals\n",
        "import youtube_dl\n",
        "import os\n",
        "from google.colab import files\n",
        "\n",
        "\n",
        "def download_song(song_url, song_index):\n",
        "    \"\"\"\n",
        "    Download a song using youtube url and song title\n",
        "    \"\"\"\n",
        "    #Get title\n",
        "    ydl_opts = {\n",
        "        'format': 'bestaudio/best',\n",
        "        'postprocessors': [\n",
        "            {'key': 'FFmpegExtractAudio', 'preferredcodec': 'mp3',\n",
        "             'preferredquality': '192',\n",
        "             },\n",
        "            {'key': 'FFmpegMetadata'},\n",
        "        ],\n",
        "    }\n",
        "\n",
        "    with youtube_dl.YoutubeDL(ydl_opts) as ydl:\n",
        "        info_dict = ydl.extract_info(song_url, download=False)\n",
        "        video_title = info_dict.get('title', None)\n",
        "\n",
        "    #Set song title\n",
        "    outtmpl = song_index + \"_\" + video_title + '.%(ext)s'\n",
        "\n",
        "    #Set options\n",
        "    ydl_opts = {\n",
        "        'format': 'bestaudio/best',\n",
        "        'outtmpl': outtmpl,\n",
        "        'postprocessors': [\n",
        "            {'key': 'FFmpegExtractAudio','preferredcodec': 'mp3',\n",
        "             'preferredquality': '192',\n",
        "            },\n",
        "            {'key': 'FFmpegMetadata'},\n",
        "        ],\n",
        "    }\n",
        "\n",
        "    #Download youtube song from url\n",
        "    with youtube_dl.YoutubeDL(ydl_opts) as ydl:\n",
        "        info_dict = ydl.extract_info(song_url, download=True)\n",
        "\n",
        "    #Locally download the song\n",
        "    files.download(song_index + \"_\" + video_title + \".mp3\")\n",
        "\n",
        "\n",
        "\n",
        "linksVideoToDownload = ['https://www.youtube.com/...',\n",
        "                        'https://www.youtube.com/...',\n",
        "                        \n",
        "\n",
        "\n",
        "                       ]\n",
        "\n",
        "\n",
        "for k, link in enumerate(linksVideoToDownload):\n",
        "    download_song(link, str(k+1))\n",
        "\n"
      ]
    }
  ]
}